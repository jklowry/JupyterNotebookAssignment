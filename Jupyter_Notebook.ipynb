{
  "metadata": {
    "kernelspec": {
      "name": "python",
      "display_name": "Pyolite",
      "language": "python"
    },
    "language_info": {
      "codemirror_mode": {
        "name": "python",
        "version": 3
      },
      "file_extension": ".py",
      "mimetype": "text/x-python",
      "name": "python",
      "nbconvert_exporter": "python",
      "pygments_lexer": "ipython3",
      "version": "3.8"
    }
  },
  "nbformat_minor": 4,
  "nbformat": 4,
  "cells": [
    {
      "cell_type": "markdown",
      "source": "<center>\n    <img src=\"https://s3-api.us-geo.objectstorage.softlayer.net/cf-courses-data/CognitiveClass/Logos/organization_logo/organization_logo.png\" width=\"300\" alt=\"cognitiveclass.ai logo\"  />\n</center>\n",
      "metadata": {}
    },
    {
      "cell_type": "markdown",
      "source": "#### Add your code below following the instructions given in the course\n",
      "metadata": {}
    },
    {
      "cell_type": "markdown",
      "source": " # My Jupyter Notebook On IBM Watson Studio",
      "metadata": {}
    },
    {
      "cell_type": "markdown",
      "source": "**Joshua Lowry**\nData Scientist",
      "metadata": {}
    },
    {
      "cell_type": "markdown",
      "source": "*I'm interesed in Data Science because I'm looking to change careers and I'm intersested in what Data Science has to offer*",
      "metadata": {}
    },
    {
      "cell_type": "markdown",
      "source": "### The following code will add the integers 3 and 4.",
      "metadata": {}
    },
    {
      "cell_type": "code",
      "source": "3 + 4",
      "metadata": {
        "trusted": true
      },
      "execution_count": 1,
      "outputs": [
        {
          "execution_count": 1,
          "output_type": "execute_result",
          "data": {
            "text/plain": "7"
          },
          "metadata": {}
        }
      ]
    },
    {
      "cell_type": "markdown",
      "source": "##A Movie Table\n___\n\n|Dramas   |Action   |Horror|\n|---------|:---------:|:------:|\n|Forrest Gump|Die Hard|Halloween|\n|~~Wedding Crashers~~|The Matrix|The Ring|\n|Scent of a Woman|Terminator|~~Bill and Ted's Excellent Adventure~~|",
      "metadata": {}
    },
    {
      "cell_type": "code",
      "source": "",
      "metadata": {},
      "execution_count": null,
      "outputs": []
    }
  ]
}